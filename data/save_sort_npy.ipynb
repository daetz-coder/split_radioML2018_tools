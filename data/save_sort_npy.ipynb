{
 "cells": [
  {
   "cell_type": "code",
   "execution_count": 2,
   "id": "2fe4f1d1-a091-43a5-bf42-91c7f44a2e60",
   "metadata": {},
   "outputs": [
    {
     "ename": "FileNotFoundError",
     "evalue": "[Errno 2] No such file or directory: './selected_data/SNR_6/'",
     "output_type": "error",
     "traceback": [
      "\u001b[0;31m---------------------------------------------------------------------------\u001b[0m",
      "\u001b[0;31mFileNotFoundError\u001b[0m                         Traceback (most recent call last)",
      "Cell \u001b[0;32mIn[2], line 17\u001b[0m\n\u001b[1;32m     15\u001b[0m \u001b[38;5;66;03m# 查找文件夹中的所有文件\u001b[39;00m\n\u001b[1;32m     16\u001b[0m file_dir \u001b[38;5;241m=\u001b[39m \u001b[38;5;124m'\u001b[39m\u001b[38;5;124m./selected_data/SNR_6/\u001b[39m\u001b[38;5;124m'\u001b[39m  \u001b[38;5;66;03m# 假设所有文件都在当前文件夹中\u001b[39;00m\n\u001b[0;32m---> 17\u001b[0m files \u001b[38;5;241m=\u001b[39m \u001b[43mos\u001b[49m\u001b[38;5;241;43m.\u001b[39;49m\u001b[43mlistdir\u001b[49m\u001b[43m(\u001b[49m\u001b[43mfile_dir\u001b[49m\u001b[43m)\u001b[49m\n\u001b[1;32m     19\u001b[0m \u001b[38;5;66;03m# 使用正则表达式查找文件名中的 SNR 值\u001b[39;00m\n\u001b[1;32m     20\u001b[0m snr_pattern \u001b[38;5;241m=\u001b[39m re\u001b[38;5;241m.\u001b[39mcompile(\u001b[38;5;124mr\u001b[39m\u001b[38;5;124m\"\u001b[39m\u001b[38;5;124mX_SNR_(\u001b[39m\u001b[38;5;124m\\\u001b[39m\u001b[38;5;124md+)_mod_(.*).npy\u001b[39m\u001b[38;5;124m\"\u001b[39m)\n",
      "\u001b[0;31mFileNotFoundError\u001b[0m: [Errno 2] No such file or directory: './selected_data/SNR_6/'"
     ]
    }
   ],
   "source": [
    "import numpy as np\n",
    "import time\n",
    "from tqdm import tqdm\n",
    "import re\n",
    "import os\n",
    "\n",
    "# 定义调制类型的顺序\n",
    "modulation_order = [\n",
    "    'OOK', '4ASK', '8ASK', 'BPSK', 'QPSK', '8PSK', '16PSK', '32PSK',\n",
    "    '16APSK', '32APSK', '64APSK', '128APSK', '16QAM', '32QAM', '64QAM',\n",
    "    '128QAM', '256QAM', 'AM-SSB-WC', 'AM-SSB-SC', 'AM-DSB-WC', 'AM-DSB-SC',\n",
    "    'FM', 'GMSK', 'OQPSK'\n",
    "]\n",
    "\n",
    "# 查找文件夹中的所有文件\n",
    "file_dir = './selected_data/SNR_6/'  # 假设所有文件都在当前文件夹中\n",
    "files = os.listdir(file_dir)\n",
    "\n",
    "# 使用正则表达式查找文件名中的 SNR 值\n",
    "snr_pattern = re.compile(r\"X_SNR_(\\d+)_mod_(.*).npy\")\n",
    "\n",
    "# 创建空列表来存储所有的numpy数组\n",
    "data_list = []\n",
    "snr_value = None\n",
    "\n",
    "# 显示总开始时间\n",
    "start_time = time.time()\n",
    "\n",
    "# 循环读取并堆叠数据，使用 tqdm 显示进度条\n",
    "for mod in tqdm(modulation_order, desc=\"Processing modulation files\"):\n",
    "    # 根据调制类型找到匹配的文件\n",
    "    matching_files = [f for f in files if f\"mod_{mod}\" in f and snr_pattern.search(f)]\n",
    "    \n",
    "    if matching_files:\n",
    "        # 处理第一个匹配的文件（假设每种调制方式只有一个 SNR 对应）\n",
    "        file_name = os.path.join(file_dir, matching_files[0])\n",
    "        \n",
    "        # 提取 SNR 值\n",
    "        match = snr_pattern.search(file_name)\n",
    "        if match:\n",
    "            snr_value = match.group(1)  # 提取 SNR 的数值\n",
    "            mod_type = match.group(2)   # 提取调制类型\n",
    "            \n",
    "            # 记录每个文件处理的开始时间\n",
    "            file_start_time = time.time()\n",
    "            \n",
    "            # 读取npy文件\n",
    "            data = np.load(file_name)\n",
    "            \n",
    "            # 将每个数据存入列表\n",
    "            data_list.append(data)\n",
    "            \n",
    "            # 记录文件处理结束时间并计算耗时\n",
    "            file_end_time = time.time()\n",
    "            print(f\"Processed {file_name} (SNR={snr_value}) in {file_end_time - file_start_time:.2f} seconds\")\n",
    "    else:\n",
    "        print(f\"No file found for modulation {mod}\")\n",
    "\n",
    "# 确保SNR值被正确识别\n",
    "if snr_value is None:\n",
    "    raise ValueError(\"No SNR value found. Please check the file naming format.\")\n",
    "\n",
    "# 将列表堆叠成形状为 (24, 1000, 1024, 2) 的数组\n",
    "combined_data = np.stack(data_list, axis=0)\n",
    "cls, smaples, single, iq = combined_data.shape\n",
    "print(f\"combined_data.shape:{combined_data.shape}\")\n",
    "\n",
    "# 保存到新的npy文件，文件名包含动态的 SNR 值\n",
    "output_file_name = f'stacked_modulation_data_SNR_{snr_value}_k{smaples}.npy'\n",
    "output_file_name = os.path.join(file_dir, output_file_name)\n",
    "np.save(output_file_name, combined_data)\n",
    "\n",
    "# 显示总耗时\n",
    "end_time = time.time()\n",
    "print(f\"All files processed and saved in {end_time - start_time:.2f} seconds. Saved as {output_file_name}.\")\n"
   ]
  },
  {
   "cell_type": "code",
   "execution_count": null,
   "id": "71045974-749b-4e46-8138-9e723a8d1c2e",
   "metadata": {},
   "outputs": [],
   "source": []
  }
 ],
 "metadata": {
  "kernelspec": {
   "display_name": "Python 3 (ipykernel)",
   "language": "python",
   "name": "python3"
  },
  "language_info": {
   "codemirror_mode": {
    "name": "ipython",
    "version": 3
   },
   "file_extension": ".py",
   "mimetype": "text/x-python",
   "name": "python",
   "nbconvert_exporter": "python",
   "pygments_lexer": "ipython3",
   "version": "3.8.19"
  }
 },
 "nbformat": 4,
 "nbformat_minor": 5
}
